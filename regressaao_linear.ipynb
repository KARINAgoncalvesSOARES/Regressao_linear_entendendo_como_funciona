{
  "nbformat": 4,
  "nbformat_minor": 0,
  "metadata": {
    "colab": {
      "name": "regressaao_linear.ipynb",
      "provenance": [],
      "collapsed_sections": [],
      "authorship_tag": "ABX9TyOMqlP3DP+bJfSHqqUvD3nr",
      "include_colab_link": true
    },
    "kernelspec": {
      "name": "python3",
      "display_name": "Python 3"
    },
    "language_info": {
      "name": "python"
    }
  },
  "cells": [
    {
      "cell_type": "markdown",
      "metadata": {
        "id": "view-in-github",
        "colab_type": "text"
      },
      "source": [
        "<a href=\"https://colab.research.google.com/github/KARINAgoncalvesSOARES/Regressao_linear_entendendo_como_funciona/blob/main/regressaao_linear.ipynb\" target=\"_parent\"><img src=\"https://colab.research.google.com/assets/colab-badge.svg\" alt=\"Open In Colab\"/></a>"
      ]
    },
    {
      "cell_type": "markdown",
      "source": [
        "# <h2 align=\"center\">Entendendo como funciona a regressão linear e como implementar utilizando a linguagem python.</h2>\n",
        "\n"
      ],
      "metadata": {
        "id": "9x5nf94eEX2U"
      }
    },
    {
      "cell_type": "markdown",
      "source": [
        "Data Scientist Jr.: Karina Gonçalves Soares"
      ],
      "metadata": {
        "id": "mk3tnXTf4SqM"
      }
    },
    {
      "cell_type": "markdown",
      "source": [
        "# Importando as minhas bibliotecas "
      ],
      "metadata": {
        "id": "24-3W2Rk-8j8"
      }
    },
    {
      "cell_type": "code",
      "source": [
        "# Fazendo impotação de bibliotecas\n",
        "import pandas as pd\n",
        "from matplotlib import pyplot as plt\n",
        "\n",
        "# Importando pacote python\n",
        "from sklearn.datasets import make_regression # Cria um dataset randomico.\n",
        "from sklearn.linear_model import LinearRegression # O pacote responsável pela regressão linear"
      ],
      "metadata": {
        "id": "Q3YYyJA8G_UM"
      },
      "execution_count": null,
      "outputs": []
    },
    {
      "cell_type": "markdown",
      "source": [
        "# Geranado e plotando meus Dados"
      ],
      "metadata": {
        "id": "ovALhNMJ_CjY"
      }
    },
    {
      "cell_type": "code",
      "source": [
        "# Usando função make_regression e passando parâmetros para gerar dados randomicos\n",
        "x,y = make_regression(n_samples=200, n_features=1, noise=30)\n",
        "\n",
        "# Retornando o conjunto de valores\n",
        "plt.scatter(x,y)"
      ],
      "metadata": {
        "colab": {
          "base_uri": "https://localhost:8080/",
          "height": 283
        },
        "id": "p5iaR-XXG_Rj",
        "outputId": "7e175e07-be33-46aa-be72-234793436122"
      },
      "execution_count": null,
      "outputs": [
        {
          "output_type": "execute_result",
          "data": {
            "text/plain": [
              "<matplotlib.collections.PathCollection at 0x7f3cd0053a10>"
            ]
          },
          "metadata": {},
          "execution_count": 19
        },
        {
          "output_type": "display_data",
          "data": {
            "text/plain": [
              "<Figure size 432x288 with 1 Axes>"
            ],
            "image/png": "[encoded data removed]"
          },
          "metadata": {
            "needs_background": "light"
          }
        }
      ]
    },
    {
      "cell_type": "markdown",
      "source": [
        "# Instanciando o Modelo Linear"
      ],
      "metadata": {
        "id": "6uTxNEve_ONr"
      }
    },
    {
      "cell_type": "code",
      "source": [
        "#Criando modelo de regressão linear com base nos dados acima:\n",
        "\n",
        "# A função LinearRegression mais método .fit(), fornece uma função que representa uma linha que melhor se ajusta a todos os pontos.\n",
        "# Com essa função e linha pode se estimar outros resultados.\n",
        "modelo = LinearRegression()\n",
        "\n",
        "modelo.fit(x,y) # Treinando o modelo"
      ],
      "metadata": {
        "colab": {
          "base_uri": "https://localhost:8080/"
        },
        "id": "rXidZU_mMm-s",
        "outputId": "698b4eff-6442-4b44-f758-6c7398cac83c"
      },
      "execution_count": null,
      "outputs": [
        {
          "output_type": "execute_result",
          "data": {
            "text/plain": [
              "LinearRegression()"
            ]
          },
          "metadata": {},
          "execution_count": 20
        }
      ]
    },
    {
      "cell_type": "markdown",
      "source": [
        "Os atributos .coef_ e .intercept_ representa A e B da função  y= a + b * x, que é a função que cria a reta."
      ],
      "metadata": {
        "id": "mbuK0gyEvJwJ"
      }
    },
    {
      "cell_type": "code",
      "source": [
        "a_coeff = modelo.coef_ #Coenficiente ângular\n",
        "l_coeff = modelo.intercept_ #Coeficiente Linear\n",
        "\n",
        "# y = a + b * x\n",
        "# y = l_coeff + a_coeff * x\n",
        "y = -1.5149292625593453 + [88.09246816] * x #Descobrindo o valor de y e montando a reta."
      ],
      "metadata": {
        "id": "RIoWiIorG_Oi"
      },
      "execution_count": null,
      "outputs": []
    },
    {
      "cell_type": "code",
      "source": [
        "\n",
        "print(f' Coeficiente linear: {l_coeff} \\n Coeficiente ângular: {a_coeff}')"
      ],
      "metadata": {
        "colab": {
          "base_uri": "https://localhost:8080/"
        },
        "id": "bnSufR0OudzP",
        "outputId": "e279134a-a7cf-4de6-f277-a9e05adc8b1c"
      },
      "execution_count": null,
      "outputs": [
        {
          "output_type": "stream",
          "name": "stdout",
          "text": [
            " Coeficiente linear: -1.5149292625593453 \n",
            " Coeficiente ângular: [88.09246816]\n"
          ]
        }
      ]
    },
    {
      "cell_type": "code",
      "source": [
        "# Plotando a reta e fazendo previsões\n",
        "\n",
        "plt.scatter(x,y)\n",
        "plt.plot(x, l_coeff + a_coeff * x, color = 'r')\n",
        "plt.scatter(2.5, l_coeff + a_coeff * 2.5, color = 'g', s = 100 ) # Passando o x e a fórmula como  y para fazer a previsão\n",
        "plt.show()"
      ],
      "metadata": {
        "colab": {
          "base_uri": "https://localhost:8080/",
          "height": 265
        },
        "id": "4V47zwSJG_Lq",
        "outputId": "bf131934-2da9-4a0c-a505-b33db4455ff0"
      },
      "execution_count": null,
      "outputs": [
        {
          "output_type": "display_data",
          "data": {
            "text/plain": [
              "<Figure size 432x288 with 1 Axes>"
            ],
            "image/png": "[encoded data removed]"
          },
          "metadata": {
            "needs_background": "light"
          }
        }
      ]
    }
  ]
}